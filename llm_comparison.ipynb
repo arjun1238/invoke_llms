{
 "cells": [
  {
   "cell_type": "markdown",
   "metadata": {},
   "source": [
    "# LLM Provider Comparison Notebook\n",
    "Learn to use different LLM APIs with proper API key management"
   ]
  },
  {
   "cell_type": "markdown",
   "metadata": {},
   "source": [
    "## 1. Setup Environment\n",
    "First install required packages and set up API keys\n",
    "\n",
    "1. **Setup Virtual Environment**\n",
    "   ```bash\n",
    "   cd /path/to/your/project   # cd downloads/use_different_llm_providers \n",
    "   python -m venv .venv       # Create virtual environment\n",
    "   source .venv/bin/activate  # Activate it (Mac/Linux)\n",
    "   python -m pip install --upgrade pip  # Update pip\n",
    "   pip install jupyter ipykernel        # Install Jupyter and kernel\n",
    "   pip install -r requirements.txt      # Install project dependencies\n",
    "   ```\n",
    "\n",
    "2. **Get API Keys**\n",
    "   - OpenAI: https://platform.openai.com/api-keys\n",
    "   - Google Gemini: https://aistudio.google.com/app/apikey \n",
    "   - Groq: https://console.groq.com/keys\n",
    "   - OpenRouter: https://openrouter.ai/keys\n",
    "\n",
    "2. **Create .env file in the project root and add keys**\n",
    "\n",
    "        OPENAI_API_KEY=\n",
    "        GOOGLE_API_KEY=\n",
    "        GROQ_API_KEY=\n",
    "        OPENROUTER_API_KEY="
   ]
  },
  {
   "cell_type": "markdown",
   "metadata": {},
   "source": [
    "## 2. ChatGPT (OpenAI)\n",
    "Get API key from https://platform.openai.com/api-keys"
   ]
  },
  {
   "cell_type": "code",
   "execution_count": null,
   "metadata": {},
   "outputs": [],
   "source": [
    "from openai import OpenAI\n",
    "import os\n",
    "from dotenv import load_dotenv\n",
    "\n",
    "load_dotenv()\n",
    "client = OpenAI(api_key=os.getenv('OPENAI_API_KEY'))\n",
    "\n",
    "response = client.chat.completions.create(\n",
    "  model=\"gpt-3.5-turbo\",\n",
    "  messages=[{\"role\": \"user\", \"content\": \"Explain AI in 20 words\"}]\n",
    ")\n",
    "print(response.choices[0].message.content)"
   ]
  },
  {
   "cell_type": "markdown",
   "metadata": {},
   "source": [
    "## 3. Google Gemini\n",
    "Get API key from https://aistudio.google.com/app/apikey"
   ]
  },
  {
   "cell_type": "code",
   "execution_count": null,
   "metadata": {},
   "outputs": [],
   "source": [
    "import google.generativeai as genai\n",
    "from dotenv import load_dotenv\n",
    "import os\n",
    "\n",
    "load_dotenv()\n",
    "genai.configure(api_key=os.getenv('GOOGLE_API_KEY'))\n",
    "\n",
    "model = genai.GenerativeModel('gemini-2.5-pro-preview-06-05')\n",
    "response = model.generate_content(\"Explain quantum computing in simple terms\")\n",
    "print(response.text)"
   ]
  },
  {
   "cell_type": "markdown",
   "metadata": {},
   "source": [
    "## 4. Groq\n",
    "Get API key from https://console.groq.com/keys"
   ]
  },
  {
   "cell_type": "code",
   "execution_count": null,
   "metadata": {},
   "outputs": [],
   "source": [
    "from groq import Groq\n",
    "from dotenv import load_dotenv\n",
    "import os\n",
    "\n",
    "load_dotenv()\n",
    "client = Groq(api_key=os.getenv('GROQ_API_KEY'))\n",
    "\n",
    "response = client.chat.completions.create(\n",
    "    messages=[{\"role\": \"user\", \"content\": \"Explain blockchain technology in 100 words\"}],\n",
    "    model=\"deepseek-r1-distill-llama-70b\"\n",
    ")\n",
    "print(response.choices[0].message.content)"
   ]
  },
  {
   "cell_type": "markdown",
   "metadata": {},
   "source": [
    "## 5. OpenRouter\n",
    "Get API key from https://openrouter.ai/keys"
   ]
  },
  {
   "cell_type": "code",
   "execution_count": null,
   "metadata": {},
   "outputs": [],
   "source": [
    "from openai import OpenAI\n",
    "from dotenv import load_dotenv\n",
    "import os\n",
    "\n",
    "load_dotenv()\n",
    "from openai import OpenAI\n",
    "\n",
    "client = OpenAI(\n",
    "  base_url=\"https://openrouter.ai/api/v1\",\n",
    "  api_key=os.getenv('OPENROUTER_API_KEY')  ,\n",
    ")\n",
    "\n",
    "completion = client.chat.completions.create(\n",
    "  model=\"openai/gpt-4o\",\n",
    "  messages=[\n",
    "    {\n",
    "      \"role\": \"user\",\n",
    "      \"content\": \"Can you explain open router in 50 words?\"\n",
    "    }\n",
    "  ]\n",
    ")\n",
    "\n",
    "print(completion.choices[0].message.content)"
   ]
  },
  {
   "cell_type": "markdown",
   "metadata": {},
   "source": [
    "## Important Notes\n",
    "- Never commit .env files to version control\n",
    "- Store API keys securely\n",
    "- Check pricing before making many requests\n"
   ]
  }
 ],
 "metadata": {
  "kernelspec": {
   "display_name": "ForGitHub",
   "language": "python",
   "name": "python3"
  },
  "language_info": {
   "codemirror_mode": {
    "name": "ipython",
    "version": 3
   },
   "file_extension": ".py",
   "mimetype": "text/x-python",
   "name": "python",
   "nbconvert_exporter": "python",
   "pygments_lexer": "ipython3",
   "version": "3.12.11"
  }
 },
 "nbformat": 4,
 "nbformat_minor": 2
}
